{
 "cells": [
  {
   "cell_type": "code",
   "execution_count": 17,
   "metadata": {},
   "outputs": [],
   "source": [
    "import pandas as pd\n",
    "import numpy as np\n",
    "import requests\n",
    "import json\n",
    "import re\n",
    "from bs4 import BeautifulSoup\n",
    "from selenium import webdriver\n",
    "from selenium.webdriver.chrome.options import Options\n",
    "import time\n",
    "from selenium.webdriver.common.by import By\n",
    "from selenium.webdriver.support.ui import WebDriverWait\n",
    "from selenium.webdriver.support import expected_conditions as EC"
   ]
  },
  {
   "cell_type": "code",
   "execution_count": 18,
   "metadata": {},
   "outputs": [],
   "source": [
    "# Configuring the driver to sign in properly so that it can run as fast as possible\n",
    "\n",
    "opt = webdriver.FirefoxOptions()\n",
    "opt.add_argument(\"--headless\")\n",
    "opt.add_argument(\"--disable-gpu\")\n",
    "opt.add_argument(\"--disable-dev-shm-usage\")\n",
    "opt.add_argument(\"--disable-extensions\")\n",
    "opt.add_argument(\"--disable-browser-side-navigation\")\n",
    "opt.add_argument(\"--enable-javascript\")\n",
    "opt.add_argument(\"--disable-infobars\")\n",
    "opt.add_argument(\"--window-size=1366,768\")"
   ]
  },
  {
   "cell_type": "code",
   "execution_count": 19,
   "metadata": {},
   "outputs": [],
   "source": [
    "# This actually instantiates the driver and opens the sign-in page for Geocaching\n",
    "driver = webdriver.Firefox(options=opt)\n",
    "\n",
    "driver.get('https://www.geocaching.com/account/signin?returnUrl=%2fplay')\n"
   ]
  },
  {
   "cell_type": "code",
   "execution_count": 20,
   "metadata": {},
   "outputs": [],
   "source": [
    "# wait for page to load\n",
    "\n",
    "wait = WebDriverWait(driver, 10)"
   ]
  },
  {
   "cell_type": "code",
   "execution_count": 21,
   "metadata": {},
   "outputs": [
    {
     "name": "stdout",
     "output_type": "stream",
     "text": [
      "USERNAME=sspackman99@gmail.com, PASSWORD=Panayaug2018\n"
     ]
    }
   ],
   "source": [
    "# Reading in my secrets\n",
    "\n",
    "with open(\"secrets.txt\") as f:\n",
    "    lines = f.readlines()\n",
    "    username = lines[0].strip()\n",
    "    password = lines[1].strip()\n",
    "    print(f\"USERNAME={username}, PASSWORD={password}\")"
   ]
  },
  {
   "cell_type": "code",
   "execution_count": 22,
   "metadata": {},
   "outputs": [
    {
     "ename": "TypeError",
     "evalue": "object of type 'WebElement' has no len()",
     "output_type": "error",
     "traceback": [
      "\u001b[0;31m---------------------------------------------------------------------------\u001b[0m",
      "\u001b[0;31mTypeError\u001b[0m                                 Traceback (most recent call last)",
      "Cell \u001b[0;32mIn[22], line 4\u001b[0m\n\u001b[1;32m      2\u001b[0m username \u001b[39m=\u001b[39m wait\u001b[39m.\u001b[39muntil(EC\u001b[39m.\u001b[39mpresence_of_element_located((By\u001b[39m.\u001b[39mID, \u001b[39m\"\u001b[39m\u001b[39mUsernameOrEmail\u001b[39m\u001b[39m\"\u001b[39m)))\n\u001b[1;32m      3\u001b[0m password \u001b[39m=\u001b[39m wait\u001b[39m.\u001b[39muntil(EC\u001b[39m.\u001b[39mpresence_of_element_located((By\u001b[39m.\u001b[39mID, \u001b[39m\"\u001b[39m\u001b[39mPassword\u001b[39m\u001b[39m\"\u001b[39m)))\n\u001b[0;32m----> 4\u001b[0m username\u001b[39m.\u001b[39;49msend_keys(username)\n\u001b[1;32m      5\u001b[0m password\u001b[39m.\u001b[39msend_keys(password)\n",
      "File \u001b[0;32m~/.local/lib/python3.10/site-packages/selenium/webdriver/remote/webelement.py:231\u001b[0m, in \u001b[0;36mWebElement.send_keys\u001b[0;34m(self, *value)\u001b[0m\n\u001b[1;32m    227\u001b[0m             remote_files\u001b[39m.\u001b[39mappend(\u001b[39mself\u001b[39m\u001b[39m.\u001b[39m_upload(file))\n\u001b[1;32m    228\u001b[0m         value \u001b[39m=\u001b[39m \u001b[39m\"\u001b[39m\u001b[39m\\n\u001b[39;00m\u001b[39m\"\u001b[39m\u001b[39m.\u001b[39mjoin(remote_files)\n\u001b[1;32m    230\u001b[0m \u001b[39mself\u001b[39m\u001b[39m.\u001b[39m_execute(\n\u001b[0;32m--> 231\u001b[0m     Command\u001b[39m.\u001b[39mSEND_KEYS_TO_ELEMENT, {\u001b[39m\"\u001b[39m\u001b[39mtext\u001b[39m\u001b[39m\"\u001b[39m: \u001b[39m\"\u001b[39m\u001b[39m\"\u001b[39m\u001b[39m.\u001b[39mjoin(keys_to_typing(value)), \u001b[39m\"\u001b[39m\u001b[39mvalue\u001b[39m\u001b[39m\"\u001b[39m: keys_to_typing(value)}\n\u001b[1;32m    232\u001b[0m )\n",
      "File \u001b[0;32m~/.local/lib/python3.10/site-packages/selenium/webdriver/common/utils.py:140\u001b[0m, in \u001b[0;36mkeys_to_typing\u001b[0;34m(value)\u001b[0m\n\u001b[1;32m    138\u001b[0m             _typing\u001b[39m.\u001b[39mappend(val[i])\n\u001b[1;32m    139\u001b[0m     \u001b[39melse\u001b[39;00m:\n\u001b[0;32m--> 140\u001b[0m         \u001b[39mfor\u001b[39;00m i \u001b[39min\u001b[39;00m \u001b[39mrange\u001b[39m(\u001b[39mlen\u001b[39;49m(val)):\n\u001b[1;32m    141\u001b[0m             _typing\u001b[39m.\u001b[39mappend(val[i])\n\u001b[1;32m    142\u001b[0m \u001b[39mreturn\u001b[39;00m _typing\n",
      "\u001b[0;31mTypeError\u001b[0m: object of type 'WebElement' has no len()"
     ]
    }
   ],
   "source": [
    "# find and fill in login form\n",
    "username = wait.until(EC.presence_of_element_located((By.ID, \"UsernameOrEmail\")))\n",
    "password = wait.until(EC.presence_of_element_located((By.ID, \"Password\")))\n",
    "username.send_keys(username)\n",
    "password.send_keys(password)"
   ]
  },
  {
   "cell_type": "code",
   "execution_count": null,
   "metadata": {},
   "outputs": [],
   "source": [
    "# submit login form\n",
    "\n",
    "driver.find_element_by_id(\"SignIn\").click()\n",
    "\n",
    "# wait for page to fully load\n",
    "time.sleep(5)\n",
    "\n",
    "# navigate to the desired page\n",
    "driver.get(\"https://www.geocaching.com/play\")"
   ]
  },
  {
   "cell_type": "code",
   "execution_count": null,
   "metadata": {},
   "outputs": [],
   "source": [
    "\n",
    "# close the browser\n",
    "driver.quit()"
   ]
  }
 ],
 "metadata": {
  "kernelspec": {
   "display_name": "Python 3",
   "language": "python",
   "name": "python3"
  },
  "language_info": {
   "codemirror_mode": {
    "name": "ipython",
    "version": 3
   },
   "file_extension": ".py",
   "mimetype": "text/x-python",
   "name": "python",
   "nbconvert_exporter": "python",
   "pygments_lexer": "ipython3",
   "version": "3.10.6"
  },
  "orig_nbformat": 4,
  "vscode": {
   "interpreter": {
    "hash": "916dbcbb3f70747c44a77c7bcd40155683ae19c65e1c03b4aa3499c5328201f1"
   }
  }
 },
 "nbformat": 4,
 "nbformat_minor": 2
}
