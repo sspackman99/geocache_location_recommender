{
 "cells": [
  {
   "cell_type": "code",
   "execution_count": 37,
   "metadata": {},
   "outputs": [],
   "source": [
    "import pandas as pd\n",
    "import numpy as np\n",
    "import requests\n",
    "import json\n",
    "import re\n",
    "from bs4 import BeautifulSoup\n",
    "from selenium import webdriver\n",
    "from selenium.webdriver.chrome.options import Options\n",
    "import time\n",
    "from selenium.webdriver.common.by import By\n",
    "from selenium.webdriver.support.ui import WebDriverWait\n",
    "from selenium.webdriver.support import expected_conditions as EC"
   ]
  },
  {
   "cell_type": "code",
   "execution_count": 38,
   "metadata": {},
   "outputs": [],
   "source": [
    "# Configuring the driver to sign in properly so that it can run as fast as possible\n",
    "\n",
    "opt = webdriver.FirefoxOptions()\n",
    "opt.add_argument(\"--headless\")\n",
    "opt.add_argument(\"--disable-gpu\")\n",
    "opt.add_argument(\"--disable-dev-shm-usage\")\n",
    "opt.add_argument(\"--disable-extensions\")\n",
    "opt.add_argument(\"--disable-browser-side-navigation\")\n",
    "opt.add_argument(\"--enable-javascript\")\n",
    "opt.add_argument(\"--disable-infobars\")\n",
    "opt.add_argument(\"--window-size=1366,768\")"
   ]
  },
  {
   "cell_type": "code",
   "execution_count": 39,
   "metadata": {},
   "outputs": [],
   "source": [
    "# This actually instantiates the driver and opens the sign-in page for Geocaching\n",
    "driver = webdriver.Firefox(options=opt)\n",
    "\n",
    "driver.get('https://www.geocaching.com/account/signin?returnUrl=%2fplay')\n"
   ]
  },
  {
   "cell_type": "code",
   "execution_count": null,
   "metadata": {},
   "outputs": [],
   "source": [
    "# Reading in my secrets\n",
    "\n",
    "with open(\"secrets.txt\") as f:\n",
    "    lines = f.readlines()\n",
    "    username = lines[0].strip()\n",
    "    password = lines[1].strip()\n",
    "    print(f\"USERNAME={username}, PASSWORD={password}\")"
   ]
  },
  {
   "cell_type": "code",
   "execution_count": 46,
   "metadata": {},
   "outputs": [],
   "source": [
    "# locate the username and password fields and enter the login credentials *CREDENTIALS MUST BE PASSED AS STRINGS*\n",
    "username_field = driver.find_elements(By.ID,\"UsernameOrEmail\")\n",
    "password_field = driver.find_elements(By.ID,\"Password\")\n",
    "\n",
    "username_field[0].send_keys(str(username))\n",
    "password_field[0].send_keys(str(password))"
   ]
  },
  {
   "cell_type": "code",
   "execution_count": null,
   "metadata": {},
   "outputs": [],
   "source": [
    "# locate the login button and click it\n",
    "login_button = driver.find_element(By.ID, \"SignIn\")\n",
    "\n",
    "login_button.click()\n",
    "\n",
    "# wait for the login to complete. Will wait until the URL changes\n",
    "wait = WebDriverWait(driver, 10)\n",
    "wait.until(EC.url_changes(\"https://www.geocaching.com/play\"))"
   ]
  },
  {
   "cell_type": "code",
   "execution_count": 48,
   "metadata": {},
   "outputs": [],
   "source": [
    "# send a GET request to the API with the logged in cookies\n",
    "session = requests.Session()\n",
    "cookies = driver.get_cookies()\n",
    "for cookie in cookies:\n",
    "    session.cookies.update({cookie[\"name\"]: cookie[\"value\"]})\n",
    "\n",
    "api_response = session.get(\"https://www.geocaching.com/api/proxy/web/search/v2?skip=0&take=50&asc=true&sort=distance&properties=callernote&rad=16093.44&origin=40.2139%2C-111.6336&dorigin=34.03557%2C-84.20132\")"
   ]
  },
  {
   "cell_type": "code",
   "execution_count": 50,
   "metadata": {},
   "outputs": [],
   "source": [
    "# read the response into a pandas df\n",
    "df = pd.DataFrame(api_response.json())"
   ]
  },
  {
   "cell_type": "code",
   "execution_count": null,
   "metadata": {},
   "outputs": [],
   "source": [
    "df"
   ]
  },
  {
   "cell_type": "code",
   "execution_count": 52,
   "metadata": {},
   "outputs": [],
   "source": [
    "\n",
    "# close the browser\n",
    "driver.quit()"
   ]
  }
 ],
 "metadata": {
  "kernelspec": {
   "display_name": "Python 3",
   "language": "python",
   "name": "python3"
  },
  "language_info": {
   "codemirror_mode": {
    "name": "ipython",
    "version": 3
   },
   "file_extension": ".py",
   "mimetype": "text/x-python",
   "name": "python",
   "nbconvert_exporter": "python",
   "pygments_lexer": "ipython3",
   "version": "3.10.6"
  },
  "orig_nbformat": 4,
  "vscode": {
   "interpreter": {
    "hash": "916dbcbb3f70747c44a77c7bcd40155683ae19c65e1c03b4aa3499c5328201f1"
   }
  }
 },
 "nbformat": 4,
 "nbformat_minor": 2
}
