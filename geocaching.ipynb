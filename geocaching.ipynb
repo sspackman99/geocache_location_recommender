{
 "cells": [
  {
   "cell_type": "code",
   "execution_count": 17,
   "metadata": {},
   "outputs": [],
   "source": [
    "import pandas as pd\n",
    "import numpy as np\n",
    "import requests\n",
    "import json\n",
    "import re\n",
    "from bs4 import BeautifulSoup\n",
    "from selenium import webdriver\n",
    "from selenium.webdriver.chrome.options import Options\n",
    "import time\n",
    "from selenium.webdriver.common.by import By\n",
    "from selenium.webdriver.support.ui import WebDriverWait\n",
    "from selenium.webdriver.support import expected_conditions as EC"
   ]
  },
  {
   "cell_type": "code",
   "execution_count": 18,
   "metadata": {},
   "outputs": [],
   "source": [
    "# Configuring the driver to sign in properly so that it can run as fast as possible\n",
    "\n",
    "opt = webdriver.FirefoxOptions()\n",
    "opt.add_argument(\"--headless\")\n",
    "opt.add_argument(\"--disable-gpu\")\n",
    "opt.add_argument(\"--disable-dev-shm-usage\")\n",
    "opt.add_argument(\"--disable-extensions\")\n",
    "opt.add_argument(\"--disable-browser-side-navigation\")\n",
    "opt.add_argument(\"--enable-javascript\")\n",
    "opt.add_argument(\"--disable-infobars\")\n",
    "opt.add_argument(\"--window-size=1366,768\")"
   ]
  },
  {
   "cell_type": "code",
   "execution_count": 19,
   "metadata": {},
   "outputs": [],
   "source": [
    "# This actually instantiates the driver and opens the sign-in page for Geocaching\n",
    "driver = webdriver.Firefox(options=opt)\n",
    "\n",
    "driver.get('https://www.geocaching.com/account/signin?returnUrl=%2fplay')\n"
   ]
  },
  {
   "cell_type": "code",
   "execution_count": 20,
   "metadata": {},
   "outputs": [],
   "source": [
    "# wait for page to load\n",
    "\n",
    "wait = WebDriverWait(driver, 10)"
   ]
  },
  {
   "cell_type": "code",
   "execution_count": null,
   "metadata": {},
   "outputs": [],
   "source": [
    "# Reading in my secrets\n",
    "\n",
    "with open(\"secrets.txt\") as f:\n",
    "    lines = f.readlines()\n",
    "    username = lines[0].strip()\n",
    "    password = lines[1].strip()\n",
    "    print(f\"USERNAME={username}, PASSWORD={password}\")"
   ]
  },
  {
   "cell_type": "code",
   "execution_count": null,
   "metadata": {},
   "outputs": [],
   "source": [
    "# find and fill in login form\n",
    "username = wait.until(EC.presence_of_element_located((By.ID, \"UsernameOrEmail\")))\n",
    "password = wait.until(EC.presence_of_element_located((By.ID, \"Password\")))\n",
    "username.send_keys(username)\n",
    "password.send_keys(password)"
   ]
  },
  {
   "cell_type": "code",
   "execution_count": null,
   "metadata": {},
   "outputs": [],
   "source": [
    "# submit login form\n",
    "\n",
    "driver.find_element_by_id(\"SignIn\").click()\n",
    "\n",
    "# wait for page to fully load\n",
    "time.sleep(5)\n",
    "\n",
    "# navigate to the desired page\n",
    "driver.get(\"https://www.geocaching.com/play\")"
   ]
  },
  {
   "cell_type": "code",
   "execution_count": null,
   "metadata": {},
   "outputs": [],
   "source": [
    "\n",
    "# close the browser\n",
    "driver.quit()"
   ]
  }
 ],
 "metadata": {
  "kernelspec": {
   "display_name": "Python 3",
   "language": "python",
   "name": "python3"
  },
  "language_info": {
   "codemirror_mode": {
    "name": "ipython",
    "version": 3
   },
   "file_extension": ".py",
   "mimetype": "text/x-python",
   "name": "python",
   "nbconvert_exporter": "python",
   "pygments_lexer": "ipython3",
   "version": "3.10.6"
  },
  "orig_nbformat": 4,
  "vscode": {
   "interpreter": {
    "hash": "916dbcbb3f70747c44a77c7bcd40155683ae19c65e1c03b4aa3499c5328201f1"
   }
  }
 },
 "nbformat": 4,
 "nbformat_minor": 2
}
